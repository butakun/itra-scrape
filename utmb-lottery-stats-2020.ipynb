{
 "cells": [
  {
   "cell_type": "code",
   "execution_count": 1,
   "metadata": {},
   "outputs": [],
   "source": [
    "import pandas as pd"
   ]
  },
  {
   "cell_type": "code",
   "execution_count": 15,
   "metadata": {},
   "outputs": [
    {
     "data": {
      "text/html": [
       "<div>\n",
       "<style scoped>\n",
       "    .dataframe tbody tr th:only-of-type {\n",
       "        vertical-align: middle;\n",
       "    }\n",
       "\n",
       "    .dataframe tbody tr th {\n",
       "        vertical-align: top;\n",
       "    }\n",
       "\n",
       "    .dataframe thead th {\n",
       "        text-align: right;\n",
       "    }\n",
       "</style>\n",
       "<table border=\"1\" class=\"dataframe\">\n",
       "  <thead>\n",
       "    <tr style=\"text-align: right;\">\n",
       "      <th></th>\n",
       "      <th>race_name</th>\n",
       "      <th>surname</th>\n",
       "      <th>first_name</th>\n",
       "      <th>category</th>\n",
       "      <th>country</th>\n",
       "      <th>nationality</th>\n",
       "      <th>status</th>\n",
       "    </tr>\n",
       "  </thead>\n",
       "  <tbody>\n",
       "    <tr>\n",
       "      <th>count</th>\n",
       "      <td>34275</td>\n",
       "      <td>34275</td>\n",
       "      <td>34275</td>\n",
       "      <td>34273</td>\n",
       "      <td>34274</td>\n",
       "      <td>34275</td>\n",
       "      <td>34275</td>\n",
       "    </tr>\n",
       "    <tr>\n",
       "      <th>unique</th>\n",
       "      <td>7</td>\n",
       "      <td>23033</td>\n",
       "      <td>8102</td>\n",
       "      <td>18</td>\n",
       "      <td>95</td>\n",
       "      <td>102</td>\n",
       "      <td>3</td>\n",
       "    </tr>\n",
       "    <tr>\n",
       "      <th>top</th>\n",
       "      <td>CCC®</td>\n",
       "      <td>LI</td>\n",
       "      <td>David</td>\n",
       "      <td>V1 H</td>\n",
       "      <td>FR</td>\n",
       "      <td>FR</td>\n",
       "      <td>Refused</td>\n",
       "    </tr>\n",
       "    <tr>\n",
       "      <th>freq</th>\n",
       "      <td>10576</td>\n",
       "      <td>102</td>\n",
       "      <td>467</td>\n",
       "      <td>11398</td>\n",
       "      <td>12326</td>\n",
       "      <td>12322</td>\n",
       "      <td>23264</td>\n",
       "    </tr>\n",
       "  </tbody>\n",
       "</table>\n",
       "</div>"
      ],
      "text/plain": [
       "       race_name surname first_name category country nationality   status\n",
       "count      34275   34275      34275    34273   34274       34275    34275\n",
       "unique         7   23033       8102       18      95         102        3\n",
       "top         CCC®      LI      David     V1 H      FR          FR  Refused\n",
       "freq       10576     102        467    11398   12326       12322    23264"
      ]
     },
     "execution_count": 15,
     "metadata": {},
     "output_type": "execute_result"
    }
   ],
   "source": [
    "df = pd.read_csv(\"utmb_2020_lottery.csv\")\n",
    "df.describe()"
   ]
  },
  {
   "cell_type": "code",
   "execution_count": 17,
   "metadata": {},
   "outputs": [
    {
     "data": {
      "text/plain": [
       "CCC®     10576\n",
       "UTMB®    10124\n",
       "OCC       9255\n",
       "TDS®      2683\n",
       "MCC        973\n",
       "PTL®       481\n",
       "YCC        183\n",
       "Name: race_name, dtype: int64"
      ]
     },
     "execution_count": 17,
     "metadata": {},
     "output_type": "execute_result"
    }
   ],
   "source": [
    "races = df.race_name.value_counts()\n",
    "races"
   ]
  },
  {
   "cell_type": "code",
   "execution_count": 48,
   "metadata": {},
   "outputs": [
    {
     "data": {
      "text/plain": [
       "'CCC®  : 2557 / 10576 =  24% chance'"
      ]
     },
     "metadata": {},
     "output_type": "display_data"
    },
    {
     "data": {
      "text/plain": [
       "'UTMB® : 2834 / 10124 =  28% chance'"
      ]
     },
     "metadata": {},
     "output_type": "display_data"
    },
    {
     "data": {
      "text/plain": [
       "'OCC   : 1892 /  9255 =  20% chance'"
      ]
     },
     "metadata": {},
     "output_type": "display_data"
    },
    {
     "data": {
      "text/plain": [
       "'TDS®  : 2254 /  2683 =  84% chance'"
      ]
     },
     "metadata": {},
     "output_type": "display_data"
    },
    {
     "data": {
      "text/plain": [
       "'MCC   :  973 /   973 = 100% chance'"
      ]
     },
     "metadata": {},
     "output_type": "display_data"
    },
    {
     "data": {
      "text/plain": [
       "'PTL®  :  318 /   481 =  66% chance'"
      ]
     },
     "metadata": {},
     "output_type": "display_data"
    },
    {
     "data": {
      "text/plain": [
       "'YCC   :  183 /   183 = 100% chance'"
      ]
     },
     "metadata": {},
     "output_type": "display_data"
    }
   ],
   "source": [
    "for race in races.index:\n",
    "    df_race = df.loc[df[\"race_name\"] == race]\n",
    "    won = (df_race.status != \"Refused\").value_counts()[True]\n",
    "    total = len(df_race)\n",
    "    print(f\"{race:6s}: {won:4d} / {total:5d} = {won / total * 100:3.0f}% chance\")"
   ]
  },
  {
   "cell_type": "code",
   "execution_count": null,
   "metadata": {},
   "outputs": [],
   "source": []
  }
 ],
 "metadata": {
  "kernelspec": {
   "display_name": "Python 3",
   "language": "python",
   "name": "python3"
  },
  "language_info": {
   "codemirror_mode": {
    "name": "ipython",
    "version": 3
   },
   "file_extension": ".py",
   "mimetype": "text/x-python",
   "name": "python",
   "nbconvert_exporter": "python",
   "pygments_lexer": "ipython3",
   "version": "3.7.6"
  }
 },
 "nbformat": 4,
 "nbformat_minor": 4
}
